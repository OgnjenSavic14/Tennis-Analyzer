{
 "cells": [
  {
   "cell_type": "code",
   "execution_count": 1,
   "metadata": {
    "executionInfo": {
     "elapsed": 625,
     "status": "ok",
     "timestamp": 1713370437736,
     "user": {
      "displayName": "ognjen savic",
      "userId": "18098995465895998430"
     },
     "user_tz": -120
    },
    "id": "S6fR0QLtDVYD"
   },
   "outputs": [],
   "source": [
    "import cv2"
   ]
  },
  {
   "cell_type": "code",
   "execution_count": 2,
   "metadata": {
    "executionInfo": {
     "elapsed": 261,
     "status": "ok",
     "timestamp": 1713370439892,
     "user": {
      "displayName": "ognjen savic",
      "userId": "18098995465895998430"
     },
     "user_tz": -120
    },
    "id": "Y2AHU4aCHlFi"
   },
   "outputs": [],
   "source": [
    "def extract_frames(video_path):\n",
    "  frames = []\n",
    "  video_capture = cv2.VideoCapture(video_path)\n",
    "  while(True):\n",
    "    ret, frame = video_capture.read()\n",
    "    if ret == False:\n",
    "      break\n",
    "    frames.append(frame)\n",
    "  video_capture.release()\n",
    "  return frames\n",
    "\n",
    "def save_video(output_video_frames, path):\n",
    "  height, width, _ = output_video_frames[0].shape\n",
    "  fourcc = cv2.VideoWriter_fourcc(*'XVID')\n",
    "  out = cv2.VideoWriter(path, fourcc, 30, (width, height))\n",
    "  for frame in output_video_frames:\n",
    "      out.write(frame)\n",
    "  out.release()"
   ]
  },
  {
   "cell_type": "code",
   "execution_count": 3,
   "metadata": {
    "executionInfo": {
     "elapsed": 3337,
     "status": "ok",
     "timestamp": 1713370448503,
     "user": {
      "displayName": "ognjen savic",
      "userId": "18098995465895998430"
     },
     "user_tz": -120
    },
    "id": "Dyz46Q2pLYRG"
   },
   "outputs": [],
   "source": [
    "#Returns frames of the input video\n",
    "frames = extract_frames(\"point.mp4\")"
   ]
  },
  {
   "cell_type": "markdown",
   "metadata": {},
   "source": [
    "# Detecting players"
   ]
  },
  {
   "cell_type": "code",
   "execution_count": null,
   "metadata": {
    "id": "KGqdUM-FRyQx"
   },
   "outputs": [],
   "source": [
    "!pip install ultralytics\n",
    "from ultralytics import YOLO"
   ]
  },
  {
   "cell_type": "code",
   "execution_count": null,
   "metadata": {},
   "outputs": [],
   "source": [
    "def closest(box, results):\n",
    "  min_distance = float('inf')\n",
    "  min_id = None\n",
    "  for bbox in results.boxes:\n",
    "    other_box = bbox.xyxy.tolist()[0]\n",
    "    x1, y1, x2, y2 = box\n",
    "    x_1, y_1, x_2, y_2 = other_box\n",
    "    center1_x = (x1+x2)/2\n",
    "    center1_y = (y1+y2)/2\n",
    "    center2_x = (x_1+x_2)/2\n",
    "    center2_y = (y_1+y_2)/2\n",
    "    distance = (center1_x - center2_x)**2 + (center1_y - center2_y)**2\n",
    "    if distance < min_distance and results.names[bbox.cls.tolist()[0]] == \"person\":\n",
    "      min_distance = distance\n",
    "      min_id = int(bbox.id.tolist()[0])\n",
    "  return min_id"
   ]
  },
  {
   "cell_type": "code",
   "execution_count": null,
   "metadata": {
    "id": "-pbQcmrKTME0"
   },
   "outputs": [],
   "source": [
    "model = YOLO(\"models/yolov8x.pt\")\n",
    "player_detections = [] #List of dictionaries for each frame\n",
    "player_ids = []\n",
    "for frame in frames:\n",
    "  results = model.track(frame, persist = True)[0] #tracking objects\n",
    "  player_dict = {} #Key:player_id value:coordinates of a box\n",
    "  for box in results.boxes:\n",
    "    id = int(box.id.tolist()[0])\n",
    "    result = box.xyxy.tolist()[0]\n",
    "    class_name = results.names[box.cls.tolist()[0]]\n",
    "    if class_name == \"tennis racket\":\n",
    "      player_id = closest(result, results) #person closest to the tennis racket is a player\n",
    "      if player_id not in player_ids:\n",
    "        player_ids.append(player_id)\n",
    "    elif class_name == \"person\" and id in player_ids:\n",
    "      player_dict[id] = result\n",
    "  player_detections.append(player_dict)"
   ]
  },
  {
   "cell_type": "code",
   "execution_count": 8,
   "metadata": {
    "executionInfo": {
     "elapsed": 453,
     "status": "ok",
     "timestamp": 1713370756618,
     "user": {
      "displayName": "ognjen savic",
      "userId": "18098995465895998430"
     },
     "user_tz": -120
    },
    "id": "mh6Fke6OTM5h"
   },
   "outputs": [],
   "source": [
    "#Drawing bounding boxes\n",
    "output_frames=[]\n",
    "for frame, player_dict in zip(frames, player_detections):\n",
    "  for id, box in player_dict.items():\n",
    "    x1, y1, x2, y2 = box\n",
    "    color = (0, 255, 0)\n",
    "    thickness = 2\n",
    "    cv2.rectangle(frame, (int(x1), int(y1)), (int(x2), int(y2)), color, thickness)\n",
    "    cv2.putText(frame, f\"Player: {player_ids.index(id)+1}\", (int(box[0]), int(box[1]) - 10), cv2.FONT_HERSHEY_SIMPLEX, 0.5, color, 2)\n",
    "  output_frames.append(frame)"
   ]
  },
  {
   "cell_type": "code",
   "execution_count": 9,
   "metadata": {
    "executionInfo": {
     "elapsed": 5225,
     "status": "ok",
     "timestamp": 1713370767737,
     "user": {
      "displayName": "ognjen savic",
      "userId": "18098995465895998430"
     },
     "user_tz": -120
    },
    "id": "DUvDwPBCRlYK"
   },
   "outputs": [],
   "source": [
    "#Saves the video\n",
    "#Input is video frames and path\n",
    "save_video(output_frames, \"output_point.avi\")"
   ]
  }
 ],
 "metadata": {
  "accelerator": "GPU",
  "colab": {
   "authorship_tag": "ABX9TyOfmoVrXL7C4qPdNvzioFDD",
   "gpuType": "T4",
   "provenance": []
  },
  "kernelspec": {
   "display_name": "Python 3 (ipykernel)",
   "language": "python",
   "name": "python3"
  },
  "language_info": {
   "codemirror_mode": {
    "name": "ipython",
    "version": 3
   },
   "file_extension": ".py",
   "mimetype": "text/x-python",
   "name": "python",
   "nbconvert_exporter": "python",
   "pygments_lexer": "ipython3",
   "version": "3.7.4"
  }
 },
 "nbformat": 4,
 "nbformat_minor": 1
}